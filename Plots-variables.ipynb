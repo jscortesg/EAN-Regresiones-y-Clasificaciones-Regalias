{
 "cells": [
  {
   "cell_type": "code",
   "execution_count": 1,
   "id": "98662124",
   "metadata": {},
   "outputs": [],
   "source": [
    "import matplotlib.pyplot as plt\n",
    "import numpy as np\n",
    "import pandas as pd\n",
    "import seaborn as sns"
   ]
  },
  {
   "cell_type": "code",
   "execution_count": 2,
   "id": "aba5c53d",
   "metadata": {},
   "outputs": [
    {
     "data": {
      "text/html": [
       "<div>\n",
       "<style scoped>\n",
       "    .dataframe tbody tr th:only-of-type {\n",
       "        vertical-align: middle;\n",
       "    }\n",
       "\n",
       "    .dataframe tbody tr th {\n",
       "        vertical-align: top;\n",
       "    }\n",
       "\n",
       "    .dataframe thead th {\n",
       "        text-align: right;\n",
       "    }\n",
       "</style>\n",
       "<table border=\"1\" class=\"dataframe\">\n",
       "  <thead>\n",
       "    <tr style=\"text-align: right;\">\n",
       "      <th></th>\n",
       "      <th>BPIN</th>\n",
       "      <th>Estado</th>\n",
       "      <th>Plazo programado (meses)</th>\n",
       "      <th>Desempeño en el costo (EV/AC)</th>\n",
       "      <th>Resultado Desempeño en el Costo</th>\n",
       "      <th>Valor SGR</th>\n",
       "      <th>valor total</th>\n",
       "      <th>Costo Actual (AC)</th>\n",
       "      <th>Código ejecutor</th>\n",
       "      <th>% Ejecución de metas de producto</th>\n",
       "      <th>...</th>\n",
       "      <th>Empresa Social del Estado</th>\n",
       "      <th>Empresa de Servicios Públicos</th>\n",
       "      <th>G1- Nivel Alto</th>\n",
       "      <th>G2- Nivel Medio Alto</th>\n",
       "      <th>G3- Nivel Medio</th>\n",
       "      <th>G4- Nivel Medio Bajo</th>\n",
       "      <th>G5- Nivel Bajo</th>\n",
       "      <th>Institución De Educación Superior</th>\n",
       "      <th>Institución de Educación Superior</th>\n",
       "      <th>Otros.1</th>\n",
       "    </tr>\n",
       "  </thead>\n",
       "  <tbody>\n",
       "    <tr>\n",
       "      <th>0</th>\n",
       "      <td>-0.172124</td>\n",
       "      <td>1</td>\n",
       "      <td>2.144472</td>\n",
       "      <td>-0.00608</td>\n",
       "      <td>0.493215</td>\n",
       "      <td>3.070884</td>\n",
       "      <td>0.364055</td>\n",
       "      <td>2.544896</td>\n",
       "      <td>-0.326121</td>\n",
       "      <td>-0.006099</td>\n",
       "      <td>...</td>\n",
       "      <td>0</td>\n",
       "      <td>0</td>\n",
       "      <td>0</td>\n",
       "      <td>0</td>\n",
       "      <td>0</td>\n",
       "      <td>0</td>\n",
       "      <td>0</td>\n",
       "      <td>0</td>\n",
       "      <td>0</td>\n",
       "      <td>0</td>\n",
       "    </tr>\n",
       "    <tr>\n",
       "      <th>1</th>\n",
       "      <td>-0.171460</td>\n",
       "      <td>1</td>\n",
       "      <td>0.362670</td>\n",
       "      <td>-0.00608</td>\n",
       "      <td>0.493215</td>\n",
       "      <td>4.678105</td>\n",
       "      <td>0.492879</td>\n",
       "      <td>3.319865</td>\n",
       "      <td>-0.326121</td>\n",
       "      <td>-0.006099</td>\n",
       "      <td>...</td>\n",
       "      <td>0</td>\n",
       "      <td>0</td>\n",
       "      <td>0</td>\n",
       "      <td>0</td>\n",
       "      <td>0</td>\n",
       "      <td>0</td>\n",
       "      <td>0</td>\n",
       "      <td>0</td>\n",
       "      <td>0</td>\n",
       "      <td>0</td>\n",
       "    </tr>\n",
       "    <tr>\n",
       "      <th>2</th>\n",
       "      <td>-0.171459</td>\n",
       "      <td>1</td>\n",
       "      <td>4.007264</td>\n",
       "      <td>-0.00608</td>\n",
       "      <td>0.493215</td>\n",
       "      <td>0.843804</td>\n",
       "      <td>0.069432</td>\n",
       "      <td>0.632226</td>\n",
       "      <td>-0.326121</td>\n",
       "      <td>-0.006099</td>\n",
       "      <td>...</td>\n",
       "      <td>0</td>\n",
       "      <td>0</td>\n",
       "      <td>0</td>\n",
       "      <td>0</td>\n",
       "      <td>0</td>\n",
       "      <td>0</td>\n",
       "      <td>0</td>\n",
       "      <td>0</td>\n",
       "      <td>0</td>\n",
       "      <td>0</td>\n",
       "    </tr>\n",
       "    <tr>\n",
       "      <th>3</th>\n",
       "      <td>-0.171128</td>\n",
       "      <td>1</td>\n",
       "      <td>0.605643</td>\n",
       "      <td>-0.00608</td>\n",
       "      <td>-2.036248</td>\n",
       "      <td>1.891054</td>\n",
       "      <td>0.183761</td>\n",
       "      <td>1.003583</td>\n",
       "      <td>-0.326121</td>\n",
       "      <td>-0.006099</td>\n",
       "      <td>...</td>\n",
       "      <td>0</td>\n",
       "      <td>0</td>\n",
       "      <td>0</td>\n",
       "      <td>0</td>\n",
       "      <td>0</td>\n",
       "      <td>0</td>\n",
       "      <td>0</td>\n",
       "      <td>0</td>\n",
       "      <td>0</td>\n",
       "      <td>0</td>\n",
       "    </tr>\n",
       "    <tr>\n",
       "      <th>4</th>\n",
       "      <td>-0.171128</td>\n",
       "      <td>1</td>\n",
       "      <td>1.496544</td>\n",
       "      <td>-0.00608</td>\n",
       "      <td>0.493215</td>\n",
       "      <td>2.496174</td>\n",
       "      <td>0.296992</td>\n",
       "      <td>1.886841</td>\n",
       "      <td>-0.326121</td>\n",
       "      <td>-0.006099</td>\n",
       "      <td>...</td>\n",
       "      <td>0</td>\n",
       "      <td>0</td>\n",
       "      <td>0</td>\n",
       "      <td>0</td>\n",
       "      <td>0</td>\n",
       "      <td>0</td>\n",
       "      <td>0</td>\n",
       "      <td>0</td>\n",
       "      <td>0</td>\n",
       "      <td>0</td>\n",
       "    </tr>\n",
       "    <tr>\n",
       "      <th>...</th>\n",
       "      <td>...</td>\n",
       "      <td>...</td>\n",
       "      <td>...</td>\n",
       "      <td>...</td>\n",
       "      <td>...</td>\n",
       "      <td>...</td>\n",
       "      <td>...</td>\n",
       "      <td>...</td>\n",
       "      <td>...</td>\n",
       "      <td>...</td>\n",
       "      <td>...</td>\n",
       "      <td>...</td>\n",
       "      <td>...</td>\n",
       "      <td>...</td>\n",
       "      <td>...</td>\n",
       "      <td>...</td>\n",
       "      <td>...</td>\n",
       "      <td>...</td>\n",
       "      <td>...</td>\n",
       "      <td>...</td>\n",
       "      <td>...</td>\n",
       "    </tr>\n",
       "    <tr>\n",
       "      <th>27319</th>\n",
       "      <td>-0.169135</td>\n",
       "      <td>0</td>\n",
       "      <td>-0.933185</td>\n",
       "      <td>-0.00608</td>\n",
       "      <td>-2.036248</td>\n",
       "      <td>-0.258023</td>\n",
       "      <td>-0.050856</td>\n",
       "      <td>-0.392196</td>\n",
       "      <td>3.082730</td>\n",
       "      <td>-0.006100</td>\n",
       "      <td>...</td>\n",
       "      <td>0</td>\n",
       "      <td>0</td>\n",
       "      <td>0</td>\n",
       "      <td>0</td>\n",
       "      <td>0</td>\n",
       "      <td>0</td>\n",
       "      <td>0</td>\n",
       "      <td>0</td>\n",
       "      <td>0</td>\n",
       "      <td>0</td>\n",
       "    </tr>\n",
       "    <tr>\n",
       "      <th>27320</th>\n",
       "      <td>-0.169910</td>\n",
       "      <td>1</td>\n",
       "      <td>-0.204266</td>\n",
       "      <td>-0.00608</td>\n",
       "      <td>0.493215</td>\n",
       "      <td>-0.152023</td>\n",
       "      <td>-0.039284</td>\n",
       "      <td>-0.161285</td>\n",
       "      <td>3.082648</td>\n",
       "      <td>-0.006099</td>\n",
       "      <td>...</td>\n",
       "      <td>0</td>\n",
       "      <td>0</td>\n",
       "      <td>0</td>\n",
       "      <td>0</td>\n",
       "      <td>0</td>\n",
       "      <td>0</td>\n",
       "      <td>0</td>\n",
       "      <td>0</td>\n",
       "      <td>0</td>\n",
       "      <td>0</td>\n",
       "    </tr>\n",
       "    <tr>\n",
       "      <th>27321</th>\n",
       "      <td>-0.169653</td>\n",
       "      <td>1</td>\n",
       "      <td>-0.366248</td>\n",
       "      <td>-0.00608</td>\n",
       "      <td>0.493215</td>\n",
       "      <td>-0.358123</td>\n",
       "      <td>-0.061784</td>\n",
       "      <td>-0.325433</td>\n",
       "      <td>3.082652</td>\n",
       "      <td>-0.006099</td>\n",
       "      <td>...</td>\n",
       "      <td>0</td>\n",
       "      <td>0</td>\n",
       "      <td>0</td>\n",
       "      <td>0</td>\n",
       "      <td>0</td>\n",
       "      <td>0</td>\n",
       "      <td>0</td>\n",
       "      <td>0</td>\n",
       "      <td>0</td>\n",
       "      <td>0</td>\n",
       "    </tr>\n",
       "    <tr>\n",
       "      <th>27322</th>\n",
       "      <td>-0.169798</td>\n",
       "      <td>1</td>\n",
       "      <td>-0.285257</td>\n",
       "      <td>-0.00608</td>\n",
       "      <td>0.493215</td>\n",
       "      <td>-0.392214</td>\n",
       "      <td>-0.065506</td>\n",
       "      <td>-0.352610</td>\n",
       "      <td>3.082627</td>\n",
       "      <td>-0.006099</td>\n",
       "      <td>...</td>\n",
       "      <td>0</td>\n",
       "      <td>0</td>\n",
       "      <td>0</td>\n",
       "      <td>0</td>\n",
       "      <td>0</td>\n",
       "      <td>0</td>\n",
       "      <td>0</td>\n",
       "      <td>0</td>\n",
       "      <td>0</td>\n",
       "      <td>1</td>\n",
       "    </tr>\n",
       "    <tr>\n",
       "      <th>27323</th>\n",
       "      <td>-0.169578</td>\n",
       "      <td>1</td>\n",
       "      <td>-0.609221</td>\n",
       "      <td>-0.00608</td>\n",
       "      <td>0.493215</td>\n",
       "      <td>-0.405121</td>\n",
       "      <td>-0.066915</td>\n",
       "      <td>-0.363037</td>\n",
       "      <td>3.082664</td>\n",
       "      <td>-0.006099</td>\n",
       "      <td>...</td>\n",
       "      <td>0</td>\n",
       "      <td>0</td>\n",
       "      <td>0</td>\n",
       "      <td>0</td>\n",
       "      <td>0</td>\n",
       "      <td>0</td>\n",
       "      <td>0</td>\n",
       "      <td>0</td>\n",
       "      <td>0</td>\n",
       "      <td>1</td>\n",
       "    </tr>\n",
       "  </tbody>\n",
       "</table>\n",
       "<p>27051 rows × 101 columns</p>\n",
       "</div>"
      ],
      "text/plain": [
       "           BPIN  Estado  Plazo programado (meses)  \\\n",
       "0     -0.172124       1                  2.144472   \n",
       "1     -0.171460       1                  0.362670   \n",
       "2     -0.171459       1                  4.007264   \n",
       "3     -0.171128       1                  0.605643   \n",
       "4     -0.171128       1                  1.496544   \n",
       "...         ...     ...                       ...   \n",
       "27319 -0.169135       0                 -0.933185   \n",
       "27320 -0.169910       1                 -0.204266   \n",
       "27321 -0.169653       1                 -0.366248   \n",
       "27322 -0.169798       1                 -0.285257   \n",
       "27323 -0.169578       1                 -0.609221   \n",
       "\n",
       "       Desempeño en el costo (EV/AC)  Resultado Desempeño en el Costo  \\\n",
       "0                           -0.00608                         0.493215   \n",
       "1                           -0.00608                         0.493215   \n",
       "2                           -0.00608                         0.493215   \n",
       "3                           -0.00608                        -2.036248   \n",
       "4                           -0.00608                         0.493215   \n",
       "...                              ...                              ...   \n",
       "27319                       -0.00608                        -2.036248   \n",
       "27320                       -0.00608                         0.493215   \n",
       "27321                       -0.00608                         0.493215   \n",
       "27322                       -0.00608                         0.493215   \n",
       "27323                       -0.00608                         0.493215   \n",
       "\n",
       "       Valor SGR  valor total  Costo Actual (AC)  Código ejecutor  \\\n",
       "0       3.070884     0.364055           2.544896        -0.326121   \n",
       "1       4.678105     0.492879           3.319865        -0.326121   \n",
       "2       0.843804     0.069432           0.632226        -0.326121   \n",
       "3       1.891054     0.183761           1.003583        -0.326121   \n",
       "4       2.496174     0.296992           1.886841        -0.326121   \n",
       "...          ...          ...                ...              ...   \n",
       "27319  -0.258023    -0.050856          -0.392196         3.082730   \n",
       "27320  -0.152023    -0.039284          -0.161285         3.082648   \n",
       "27321  -0.358123    -0.061784          -0.325433         3.082652   \n",
       "27322  -0.392214    -0.065506          -0.352610         3.082627   \n",
       "27323  -0.405121    -0.066915          -0.363037         3.082664   \n",
       "\n",
       "       % Ejecución de metas de producto  ...  Empresa Social del Estado  \\\n",
       "0                             -0.006099  ...                          0   \n",
       "1                             -0.006099  ...                          0   \n",
       "2                             -0.006099  ...                          0   \n",
       "3                             -0.006099  ...                          0   \n",
       "4                             -0.006099  ...                          0   \n",
       "...                                 ...  ...                        ...   \n",
       "27319                         -0.006100  ...                          0   \n",
       "27320                         -0.006099  ...                          0   \n",
       "27321                         -0.006099  ...                          0   \n",
       "27322                         -0.006099  ...                          0   \n",
       "27323                         -0.006099  ...                          0   \n",
       "\n",
       "       Empresa de Servicios Públicos  G1- Nivel Alto  G2- Nivel Medio Alto  \\\n",
       "0                                  0               0                     0   \n",
       "1                                  0               0                     0   \n",
       "2                                  0               0                     0   \n",
       "3                                  0               0                     0   \n",
       "4                                  0               0                     0   \n",
       "...                              ...             ...                   ...   \n",
       "27319                              0               0                     0   \n",
       "27320                              0               0                     0   \n",
       "27321                              0               0                     0   \n",
       "27322                              0               0                     0   \n",
       "27323                              0               0                     0   \n",
       "\n",
       "       G3- Nivel Medio  G4- Nivel Medio Bajo  G5- Nivel Bajo  \\\n",
       "0                    0                     0               0   \n",
       "1                    0                     0               0   \n",
       "2                    0                     0               0   \n",
       "3                    0                     0               0   \n",
       "4                    0                     0               0   \n",
       "...                ...                   ...             ...   \n",
       "27319                0                     0               0   \n",
       "27320                0                     0               0   \n",
       "27321                0                     0               0   \n",
       "27322                0                     0               0   \n",
       "27323                0                     0               0   \n",
       "\n",
       "       Institución De Educación Superior  Institución de Educación Superior  \\\n",
       "0                                      0                                  0   \n",
       "1                                      0                                  0   \n",
       "2                                      0                                  0   \n",
       "3                                      0                                  0   \n",
       "4                                      0                                  0   \n",
       "...                                  ...                                ...   \n",
       "27319                                  0                                  0   \n",
       "27320                                  0                                  0   \n",
       "27321                                  0                                  0   \n",
       "27322                                  0                                  0   \n",
       "27323                                  0                                  0   \n",
       "\n",
       "       Otros.1  \n",
       "0            0  \n",
       "1            0  \n",
       "2            0  \n",
       "3            0  \n",
       "4            0  \n",
       "...        ...  \n",
       "27319        0  \n",
       "27320        0  \n",
       "27321        0  \n",
       "27322        1  \n",
       "27323        1  \n",
       "\n",
       "[27051 rows x 101 columns]"
      ]
     },
     "execution_count": 2,
     "metadata": {},
     "output_type": "execute_result"
    }
   ],
   "source": [
    "Regalias = pd.read_excel('Regalias_proyectos_red_3norm.xlsx', index_col=0)\n",
    "\n",
    "Regalias"
   ]
  },
  {
   "cell_type": "code",
   "execution_count": 3,
   "id": "b0545cd2",
   "metadata": {},
   "outputs": [
    {
     "data": {
      "text/plain": [
       "array([ 99.1, 100. ,  65.5,  66.7,  82.7,   0. ,  33.3,  94. ,  95.3,\n",
       "        85.3,  84. ,  92.7,  59.3,  58. ,  97.1,  50.7,  99.3,  63.3,\n",
       "        80. ,  99. ,  86.7,  96.7,  99.6,  60.7,  94.4,  81.3,  49.3,\n",
       "        91.3,  65. ,  93.3,  97. ,  65.3,  95.2,  52. ,  53.3,  94.9,\n",
       "        96. ,  96.8,  98.7,  98.4,  99.9,  99.4,  96.2,  98. ,  99.5,\n",
       "        20. ,  95. ,  90. ,  99.7,  96.1,  97.9,  94.8,  99.2,  98.2,\n",
       "        94.3,  98.6,  62. ,  63. ,  96.9,  93.9,  66.6,  56.7,  98.3,\n",
       "        61.7,  30. ,  97.2,  62.1,  97.5,  66.1,  63.6,  96.4,  64.5,\n",
       "        60.9,  64. ,  62.2,  82.5,  96.5,  98.9,  94.6,  97.8,  64.3,\n",
       "        99.8,  96.3,  94.7,  98.1,  65.7,  63.8,  95.9,  48. ,  98.5,\n",
       "        97.6,  97.4,  93.5,  64.8,  66. ,  65.2,  81. ,  23.3,  66.3,\n",
       "        95.6,  78.5,  94.2,  80.3,  60.8,  95.7,  97.3,  95.8,  98.8,\n",
       "        96.6,  66.5,  93.6,  64.7,  93.8,  95.4,  62.7,  62.5,  27.3,\n",
       "        94.5,  97.7,  62.9,  26.7,  74.7,  88.9,  61.8,  60.3,  95.5])"
      ]
     },
     "execution_count": 3,
     "metadata": {},
     "output_type": "execute_result"
    }
   ],
   "source": [
    "Regalias['IGPR'].unique()"
   ]
  },
  {
   "cell_type": "code",
   "execution_count": 4,
   "id": "7d1f7f85",
   "metadata": {},
   "outputs": [
    {
     "name": "stderr",
     "output_type": "stream",
     "text": [
      "C:\\Users\\angry\\anaconda3\\lib\\site-packages\\seaborn\\distributions.py:2619: FutureWarning: `distplot` is a deprecated function and will be removed in a future version. Please adapt your code to use either `displot` (a figure-level function with similar flexibility) or `histplot` (an axes-level function for histograms).\n",
      "  warnings.warn(msg, FutureWarning)\n"
     ]
    },
    {
     "data": {
      "image/png": "[encoded data removed]",
      "text/plain": [
       "<Figure size 720x360 with 1 Axes>"
      ]
     },
     "metadata": {
      "needs_background": "light"
     },
     "output_type": "display_data"
    }
   ],
   "source": [
    "plt.figure(figsize=(10,5))\n",
    "sns.set(style='dark',)\n",
    "#plt.xlim(0,2000)\n",
    "plt.xlabel('IGPR')\n",
    "plt.ylabel('Frecuencia')\n",
    "sns.distplot(Regalias['IGPR'],bins=40,kde=False, color = 'green')\n",
    "plt.show()"
   ]
  },
  {
   "cell_type": "code",
   "execution_count": 5,
   "id": "cd25c927",
   "metadata": {},
   "outputs": [],
   "source": [
    "IGPR_norm = (Regalias['IGPR'] - Regalias['IGPR'].mean())/Regalias['IGPR'].std()"
   ]
  },
  {
   "cell_type": "code",
   "execution_count": 6,
   "id": "d00418ae",
   "metadata": {},
   "outputs": [
    {
     "data": {
      "text/plain": [
       "0        0.592480\n",
       "1        0.619047\n",
       "2        0.619047\n",
       "3       -0.399354\n",
       "4       -0.363931\n",
       "           ...   \n",
       "27319   -2.332840\n",
       "27320    0.619047\n",
       "27321    0.619047\n",
       "27322    0.619047\n",
       "27323    0.619047\n",
       "Name: IGPR, Length: 27051, dtype: float64"
      ]
     },
     "execution_count": 6,
     "metadata": {},
     "output_type": "execute_result"
    }
   ],
   "source": [
    "IGPR_norm"
   ]
  },
  {
   "cell_type": "code",
   "execution_count": 7,
   "id": "eaf949e1",
   "metadata": {},
   "outputs": [
    {
     "data": {
      "image/png": "[encoded data removed]",
      "text/plain": [
       "<Figure size 720x360 with 1 Axes>"
      ]
     },
     "metadata": {},
     "output_type": "display_data"
    }
   ],
   "source": [
    "plt.figure(figsize=(10,5))\n",
    "sns.set(style='dark',)\n",
    "#plt.xlim(0,2000)\n",
    "plt.xlabel('IGPR')\n",
    "plt.ylabel('Frecuencia')\n",
    "sns.distplot(IGPR_norm, bins=40,kde=False, color = 'green')\n",
    "plt.show()"
   ]
  },
  {
   "cell_type": "markdown",
   "id": "2c6d09a0",
   "metadata": {},
   "source": [
    "# Intervalo de confianza\n",
    "\n",
    "https://stackoverflow.com/questions/15033511/compute-a-confidence-interval-from-sample-data\n",
    "\n",
    "https://www.geeksforgeeks.org/scipy-stats-sem-function-python/"
   ]
  },
  {
   "cell_type": "code",
   "execution_count": 8,
   "id": "edc7bfef",
   "metadata": {},
   "outputs": [],
   "source": [
    "import scipy.stats\n",
    "\n",
    "def mean_confidence_interval(data, confidence=0.95):\n",
    "    a = 1.0 * np.array(data)\n",
    "    n = len(a)\n",
    "    m, se = np.mean(a), scipy.stats.sem(a)\n",
    "    h = se * scipy.stats.t.ppf((1 + confidence) / 2., n-1)\n",
    "    return m, m-h, m+h"
   ]
  },
  {
   "cell_type": "code",
   "execution_count": 9,
   "id": "19f42a52",
   "metadata": {},
   "outputs": [
    {
     "data": {
      "text/plain": [
       "(1.2257656762034983e-13, -0.011917244837824638, 0.011917244838069793)"
      ]
     },
     "execution_count": 9,
     "metadata": {},
     "output_type": "execute_result"
    }
   ],
   "source": [
    "mean_confidence_interval(IGPR_norm)"
   ]
  },
  {
   "cell_type": "code",
   "execution_count": 10,
   "id": "a28e2c11",
   "metadata": {},
   "outputs": [
    {
     "data": {
      "text/plain": [
       "(79.02875679272486, 78.62504062217776, 79.43247296327196)"
      ]
     },
     "execution_count": 10,
     "metadata": {},
     "output_type": "execute_result"
    }
   ],
   "source": [
    "mean_confidence_interval(Regalias['IGPR'])"
   ]
  },
  {
   "cell_type": "markdown",
   "id": "3a58ac80",
   "metadata": {},
   "source": [
    "**Nota:** no es una distribución normal. No se puede aplicar."
   ]
  },
  {
   "cell_type": "code",
   "execution_count": 11,
   "id": "7a347dba",
   "metadata": {},
   "outputs": [],
   "source": [
    "shape, loc, scale = scipy.stats.lognorm.fit(Regalias['IGPR'], loc=0)\n",
    "pdf_lognorm = scipy.stats.lognorm.pdf(Regalias['IGPR'], shape, loc, scale)"
   ]
  },
  {
   "cell_type": "code",
   "execution_count": 14,
   "id": "e0977cd1",
   "metadata": {},
   "outputs": [
    {
     "data": {
      "image/png": "[encoded data removed]",
      "text/plain": [
       "<Figure size 576x288 with 2 Axes>"
      ]
     },
     "metadata": {},
     "output_type": "display_data"
    }
   ],
   "source": [
    "fig, (ax1, ax2) = plt.subplots(1, 2, figsize=(8, 4))\n",
    "\n",
    "ax1.hist(Regalias['IGPR'], bins='auto', density=True)\n",
    "#ax1.plot(Regalias['IGPR'], pdf_lognorm)\n",
    "ax1.set_ylabel('probability')\n",
    "ax1.set_title('Linear Scale')\n",
    "\n",
    "ax2.hist(Regalias['IGPR'], bins='auto', density=True)\n",
    "#ax2.plot(Regalias['IGPR'], pdf_lognorm)\n",
    "ax2.set_xscale('log')\n",
    "ax2.set_title('Log Scale');"
   ]
  },
  {
   "cell_type": "code",
   "execution_count": 15,
   "id": "03098310",
   "metadata": {},
   "outputs": [
    {
     "data": {
      "text/plain": [
       "count    27051.000000\n",
       "mean        79.028757\n",
       "std         33.876636\n",
       "min          0.000000\n",
       "25%         66.700000\n",
       "50%        100.000000\n",
       "75%        100.000000\n",
       "max        100.000000\n",
       "Name: IGPR, dtype: float64"
      ]
     },
     "execution_count": 15,
     "metadata": {},
     "output_type": "execute_result"
    }
   ],
   "source": [
    "Regalias['IGPR'].describe()"
   ]
  },
  {
   "cell_type": "code",
   "execution_count": 35,
   "id": "dc5dc7d6",
   "metadata": {},
   "outputs": [],
   "source": [
    "IGPR_BS = (Regalias['IGPR'],)\n",
    "bootstrap_regalias = scipy.stats.bootstrap(IGPR_BS,  np.mean, \n",
    "                                           confidence_level=0.90, random_state=1, method='percentile',\n",
    "                                           n_resamples = 40000)"
   ]
  },
  {
   "cell_type": "code",
   "execution_count": 36,
   "id": "dea06cf3",
   "metadata": {},
   "outputs": [
    {
     "name": "stdout",
     "output_type": "stream",
     "text": [
      "ConfidenceInterval(low=78.69243170307936, high=79.36392037262948)\n"
     ]
    }
   ],
   "source": [
    "print(bootstrap_regalias.confidence_interval)"
   ]
  },
  {
   "cell_type": "code",
   "execution_count": null,
   "id": "6ed9f7f9",
   "metadata": {},
   "outputs": [],
   "source": []
  }
 ],
 "metadata": {
  "kernelspec": {
   "display_name": "Python 3 (ipykernel)",
   "language": "python",
   "name": "python3"
  },
  "language_info": {
   "codemirror_mode": {
    "name": "ipython",
    "version": 3
   },
   "file_extension": ".py",
   "mimetype": "text/x-python",
   "name": "python",
   "nbconvert_exporter": "python",
   "pygments_lexer": "ipython3",
   "version": "3.9.7"
  }
 },
 "nbformat": 4,
 "nbformat_minor": 5
}
